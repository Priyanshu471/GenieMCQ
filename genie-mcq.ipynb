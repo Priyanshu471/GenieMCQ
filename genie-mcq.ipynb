{
 "cells": [
  {
   "cell_type": "code",
   "execution_count": 1,
   "metadata": {},
   "outputs": [],
   "source": [
    "import os\n",
    "import json\n",
    "import pandas as pd\n",
    "import PyPDF2\n",
    "import json\n",
    "import constants\n",
    "\n",
    "from langchain.chat_models import ChatOpenAI\n",
    "from langchain.prompts import PromptTemplate\n",
    "from langchain.chains import LLMChain\n",
    "from langchain.chains import SequentialChain\n",
    "from langchain.callbacks import get_openai_callback\n",
    "from dotenv import load_dotenv"
   ]
  },
  {
   "cell_type": "code",
   "execution_count": 2,
   "metadata": {},
   "outputs": [],
   "source": [
    "load_dotenv()\n",
    "apikey = os.environ[\"OPENAI_KEY\"]"
   ]
  },
  {
   "cell_type": "code",
   "execution_count": 3,
   "metadata": {},
   "outputs": [
    {
     "name": "stderr",
     "output_type": "stream",
     "text": [
      "d:\\Pyhton\\genie-mcq\\venv\\Lib\\site-packages\\langchain_core\\_api\\deprecation.py:117: LangChainDeprecationWarning: The class `langchain_community.chat_models.openai.ChatOpenAI` was deprecated in langchain-community 0.0.10 and will be removed in 0.2.0. An updated version of the class exists in the langchain-openai package and should be used instead. To use it run `pip install -U langchain-openai` and import as `from langchain_openai import ChatOpenAI`.\n",
      "  warn_deprecated(\n"
     ]
    }
   ],
   "source": [
    "# Initialize the ChatOpenAI object with the specified parameters\n",
    "llm = ChatOpenAI(openai_api_key=apikey, model_name=\"gpt-3.5-turbo\", temperature=0.7)"
   ]
  },
  {
   "cell_type": "code",
   "execution_count": 4,
   "metadata": {},
   "outputs": [],
   "source": [
    "PATH = \"D:\\Pyhton\\genie-mcq\\Response.json\"\n",
    "with open(PATH,\"r\") as f:\n",
    "    RESPONSE_JSON=json.load(f)"
   ]
  },
  {
   "cell_type": "code",
   "execution_count": 5,
   "metadata": {},
   "outputs": [],
   "source": [
    "mcq_prompt = PromptTemplate(\n",
    "    input_variables=[\"text\",\"number\",\"subject\",\"tone\",\"RESPONSE_JSON\"],\n",
    "    template=constants.TEMPLATE,\n",
    ")\n",
    "\n",
    "mcq_chain = LLMChain(llm=llm,prompt=mcq_prompt,output_key=\"mcq\",verbose=True)"
   ]
  },
  {
   "cell_type": "code",
   "execution_count": 6,
   "metadata": {},
   "outputs": [],
   "source": [
    "review_prompt = PromptTemplate(\n",
    "        input_variables=[\"subject\",\"mcq\"],\n",
    "        template=constants.TEMPLATE2\n",
    ")\n",
    "\n",
    "review_chain = LLMChain(llm=llm,prompt=review_prompt,output_key=\"review\",verbose=True)"
   ]
  },
  {
   "cell_type": "code",
   "execution_count": 7,
   "metadata": {},
   "outputs": [],
   "source": [
    "generate_evaluate_chain=SequentialChain(chains=[mcq_chain, review_chain], input_variables=[\"text\", \"number\", \"subject\", \"tone\", \"RESPONSE_JSON\"],output_variables=[\"mcq\", \"review\"], verbose=True,)"
   ]
  },
  {
   "cell_type": "code",
   "execution_count": 8,
   "metadata": {},
   "outputs": [],
   "source": [
    "PATH = \"D:\\Pyhton\\genie-mcq\\data.txt\"\n",
    "with open(PATH,\"r\") as file:\n",
    "    TEXT=file.read()"
   ]
  },
  {
   "cell_type": "code",
   "execution_count": 9,
   "metadata": {},
   "outputs": [],
   "source": [
    "TEXT\n",
    "NUMBER = 2\n",
    "SUBJECT = \"History\"\n",
    "TONE = \"easy\""
   ]
  },
  {
   "cell_type": "code",
   "execution_count": 10,
   "metadata": {},
   "outputs": [
    {
     "name": "stderr",
     "output_type": "stream",
     "text": [
      "d:\\Pyhton\\genie-mcq\\venv\\Lib\\site-packages\\langchain_core\\_api\\deprecation.py:117: LangChainDeprecationWarning: The function `__call__` was deprecated in LangChain 0.1.0 and will be removed in 0.2.0. Use invoke instead.\n",
      "  warn_deprecated(\n"
     ]
    },
    {
     "name": "stdout",
     "output_type": "stream",
     "text": [
      "\n",
      "\n",
      "\u001b[1m> Entering new SequentialChain chain...\u001b[0m\n",
      "\n",
      "\n",
      "\u001b[1m> Entering new LLMChain chain...\u001b[0m\n",
      "Prompt after formatting:\n",
      "\u001b[32;1m\u001b[1;3m\n",
      "Text:The Society was founded by Dr. S.P. Gupta (a prominent archaeologist and Chairman of the Indian Archaeological Society) and Dr. D. Devahuti of the National Museum, New Delhi, and inaugurated by then Prime Minister Morarji Desai accompanied by eminent scholars such as Prof. Lallanji Gopal (of BHU), Prof. B. P. Sinha (head of History at Patna University), Prof. Khalid Ahmed Nizami (head of History at Aligarh Muslim University), Prof. G.C. Pande, Prof. K.D. Bajpai, and Prof. Tan Chung.\n",
      "\n",
      "The publication History Today was first edited by Dr. S.K Jolly (a historian of Sikh Revivalism) and subsequently, in due course it was edited by Dr. Vandana Kaushik, Ms. S. Radhakrishnan and Prof. D.P. Tiwari.\n",
      "\n",
      "When the Janata government of 1977-79 (including the former Jan Sangh) was elected, it blocked the Towards Freedom Project of the Indian Council of Historical Research (ICHR) claiming that the history textbooks promoted by the ICHR suffered an ahistorical Marxist ideological distortion. After the Indian History Congress endorsed the textbook writers affiliated with the ICHR, the Janata government funded the then new Indian History and Culture Society. According to scholars L.I. Rudolph and Sussane Rudolph, it attracted a variety of historians, some sympathetic to the Rashtriya Swayamsevak Sangh (RSS) and others disaffected from the textbook \"establishment.\"[2]\n",
      "You are an expert MCQ maker. Given the above text, it is your job to create a quiz  of 2 multiple choice questions for History students in easy tone. \n",
      "Make sure the questions are not repeated and check all the questions to be conforming the text as well.\n",
      "Make sure to format your response like  RESPONSE_JSON below  and use it as a guide. Ensure to make 2 MCQs and make sure you striclty follow the format of the RESPONSE_JSON\n",
      "### RESPONSE_JSON\n",
      "{\"questions\": {\"1\": {\"no\": \"1\", \"ques\": \"multiple choice questions\", \"options\": {\"a\": \"choice here\", \"b\": \"choice here\", \"c\": \"choice here\", \"d\": \"choice here\"}}, \"2\": {\"no\": \"2\", \"ques\": \"multiple choice questions\", \"options\": {\"a\": \"choice here\", \"b\": \"choice here\", \"c\": \"choice here\", \"d\": \"choice here\"}}, \"3\": {\"no\": \"3\", \"ques\": \"multiple choice questions\", \"options\": {\"a\": \"choice here\", \"b\": \"choice here\", \"c\": \"choice here\", \"d\": \"choice here\"}}}, \"answers\": {\"1\": {\"ans\": \"a\"}, \"2\": {\"ans\": \"b\"}, \"3\": {\"ans\": \"d\"}}}\n",
      "\u001b[0m\n",
      "\n",
      "\u001b[1m> Finished chain.\u001b[0m\n",
      "\n",
      "\n",
      "\u001b[1m> Entering new LLMChain chain...\u001b[0m\n",
      "Prompt after formatting:\n",
      "\u001b[32;1m\u001b[1;3m\n",
      "You are an expert english grammarian and writer. Given a Multiple Choice Quiz for History students.You need to evaluate the complexity of the question and give a complete analysis of the quiz. Only use at max 50 words for complexity analysis. \n",
      "if the quiz is not at per with the cognitive and analytical abilities of the students,update the quiz questions which needs to be changed and change the tone such that it perfectly fits the student abilities\n",
      "Quiz_MCQs:\n",
      "\n",
      "### RESPONSE_JSON\n",
      "{\"questions\": {\"1\": {\"no\": \"1\", \"ques\": \"Who founded The Society mentioned in the text?\", \"options\": {\"a\": \"Dr. S.P. Gupta and Dr. D. Devahuti\", \"b\": \"Prof. Lallanji Gopal and Prof. B. P. Sinha\", \"c\": \"Prof. Khalid Ahmed Nizami and Prof. G.C. Pande\", \"d\": \"Prof. K.D. Bajpai and Prof. Tan Chung\"}}, \"2\": {\"no\": \"2\", \"ques\": \"Which government blocked the Towards Freedom Project of the ICHR?\", \"options\": {\"a\": \"Congress government\", \"b\": \"Janata government\", \"c\": \"BJP government\", \"d\": \"Communist government\"}}}, \"answers\": {\"1\": {\"ans\": \"a\"}, \"2\": {\"ans\": \"b\"}}}\n",
      "\n",
      "Check from an expert English Writer of the above quiz:\n",
      "\u001b[0m\n",
      "\n",
      "\u001b[1m> Finished chain.\u001b[0m\n",
      "\n",
      "\u001b[1m> Finished chain.\u001b[0m\n"
     ]
    }
   ],
   "source": [
    "with get_openai_callback() as cb:\n",
    "    response=generate_evaluate_chain(\n",
    "        {\n",
    "        \"text\": TEXT,\n",
    "        \"number\": NUMBER,\n",
    "        \"subject\": SUBJECT,\n",
    "        \"tone\": TONE,\n",
    "        \"RESPONSE_JSON\": json.dumps(RESPONSE_JSON)\n",
    "        }\n",
    "    )\n"
   ]
  },
  {
   "cell_type": "code",
   "execution_count": 11,
   "metadata": {},
   "outputs": [
    {
     "name": "stdout",
     "output_type": "stream",
     "text": [
      "Total Tokens:1169\n",
      "Total Cost:0.001874\n"
     ]
    }
   ],
   "source": [
    "print(f\"Total Tokens:{cb.total_tokens}\")\n",
    "print(f\"Total Cost:{cb.total_cost}\")"
   ]
  },
  {
   "cell_type": "code",
   "execution_count": 12,
   "metadata": {},
   "outputs": [
    {
     "data": {
      "text/plain": [
       "'{\"questions\": {\"1\": {\"no\": \"1\", \"ques\": \"Who founded The Society mentioned in the text?\", \"options\": {\"a\": \"Dr. S.P. Gupta and Dr. D. Devahuti\", \"b\": \"Prof. Lallanji Gopal and Prof. B. P. Sinha\", \"c\": \"Prof. Khalid Ahmed Nizami and Prof. G.C. Pande\", \"d\": \"Prof. K.D. Bajpai and Prof. Tan Chung\"}}, \"2\": {\"no\": \"2\", \"ques\": \"Which government blocked the Towards Freedom Project of the ICHR?\", \"options\": {\"a\": \"Congress government\", \"b\": \"Janata government\", \"c\": \"BJP government\", \"d\": \"Communist government\"}}}, \"answers\": {\"1\": {\"ans\": \"a\"}, \"2\": {\"ans\": \"b\"}}}'"
      ]
     },
     "execution_count": 12,
     "metadata": {},
     "output_type": "execute_result"
    }
   ],
   "source": [
    "quiz = response.get(\"mcq\").strip()\n",
    "quiz = quiz.replace('### RESPONSE_JSON\\n', '')\n",
    "quiz"
   ]
  },
  {
   "cell_type": "code",
   "execution_count": 13,
   "metadata": {},
   "outputs": [
    {
     "name": "stdout",
     "output_type": "stream",
     "text": [
      "\n",
      "Questions:\n",
      "Q1: Who founded The Society mentioned in the text?\n",
      "a: Dr. S.P. Gupta and Dr. D. Devahuti\n",
      "b: Prof. Lallanji Gopal and Prof. B. P. Sinha\n",
      "c: Prof. Khalid Ahmed Nizami and Prof. G.C. Pande\n",
      "d: Prof. K.D. Bajpai and Prof. Tan Chung\n",
      "Q2: Which government blocked the Towards Freedom Project of the ICHR?\n",
      "a: Congress government\n",
      "b: Janata government\n",
      "c: BJP government\n",
      "d: Communist government\n",
      "\n",
      "Answers:\n",
      "Answer 1: {'ans': 'a'}\n",
      "Answer 2: {'ans': 'b'}\n"
     ]
    }
   ],
   "source": [
    "try:\n",
    "    quiz_json = json.loads(quiz)\n",
    "    questions = quiz_json[\"questions\"]\n",
    "    answers = quiz_json[\"answers\"]\n",
    "\n",
    "    # Process the JSON data further\n",
    "    print(\"\\nQuestions:\")\n",
    "    for q_no, details in questions.items():\n",
    "        print(f\"Q{q_no}: {details['ques']}\")\n",
    "        for option, text in details[\"options\"].items():\n",
    "                print(f\"{option}: {text}\")\n",
    "    print(\"\\nAnswers:\")\n",
    "    for q_no, ans in answers.items():\n",
    "        print(f\"Answer {q_no}: {ans}\")\n",
    "except json.JSONDecodeError as e:\n",
    "    print(\"Error decoding JSON:\", e)\n",
    "\n"
   ]
  },
  {
   "cell_type": "code",
   "execution_count": null,
   "metadata": {},
   "outputs": [],
   "source": []
  }
 ],
 "metadata": {
  "kernelspec": {
   "display_name": "venv",
   "language": "python",
   "name": "python3"
  },
  "language_info": {
   "codemirror_mode": {
    "name": "ipython",
    "version": 3
   },
   "file_extension": ".py",
   "mimetype": "text/x-python",
   "name": "python",
   "nbconvert_exporter": "python",
   "pygments_lexer": "ipython3",
   "version": "3.11.2"
  }
 },
 "nbformat": 4,
 "nbformat_minor": 2
}
